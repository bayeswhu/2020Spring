{
 "cells": [
  {
   "cell_type": "markdown",
   "metadata": {},
   "source": [
    "# 1 Introduction"
   ]
  },
  {
   "cell_type": "markdown",
   "metadata": {},
   "source": [
    "This project is about a kind of lottery ticket called \"array 3\", which is a means of raising money by selling numbered tickets and giving prizes to the holders of the number drawn at random. And you have three ways to get the prize:\n",
    "1. you choose a number from 000 to 999. If your choice matches the prize number，then you get 1040 RMB.\n",
    "2.  you choose one number --A from 0 to 9 twice and choose another different number -- B as the same time,such as'112'. If the prize number includes two 'A'and one 'B'(3 cases in total like 112,121,211)，then you get 346 RMB.\n",
    "3. you choose three different numbers from 0 to 9, such as'123'.If the prize number includes '1', '2'and '3'(6 cases in total)，then you get 173 RMB."
   ]
  },
  {
   "cell_type": "code",
   "execution_count": 1,
   "metadata": {},
   "outputs": [],
   "source": [
    "import pandas as pd\n",
    "import numpy as np\n",
    "import matplotlib.pyplot as plt\n",
    "import datetime as dt\n",
    "import scipy.stats as st\n",
    "%matplotlib inline"
   ]
  },
  {
   "cell_type": "markdown",
   "metadata": {},
   "source": [
    "# 2 data & clean"
   ]
  },
  {
   "cell_type": "markdown",
   "metadata": {},
   "source": [
    "The datas of the first csv come from the [Official website of the lottery ticket](https://www.lottery.gov.cn/historykj/history.jspx?_ltype=pls). I copy the datas and save them as csv."
   ]
  },
  {
   "cell_type": "markdown",
   "metadata": {},
   "source": [
    "## 2-1 infomation of the data"
   ]
  },
  {
   "cell_type": "code",
   "execution_count": 2,
   "metadata": {},
   "outputs": [],
   "source": [
    "url_all = \"data-all.csv\"\n",
    "df_all = pd.read_csv(url_all)"
   ]
  },
  {
   "cell_type": "code",
   "execution_count": 3,
   "metadata": {
    "scrolled": true
   },
   "outputs": [
    {
     "data": {
      "text/plain": [
       "time_serial     int64\n",
       "password       object\n",
       "way1            int64\n",
       "way1_number     int64\n",
       "way2            int64\n",
       "way2_number     int64\n",
       "way3           object\n",
       "way3_number     int64\n",
       "total_sales    object\n",
       "time           object\n",
       "dtype: object"
      ]
     },
     "execution_count": 3,
     "metadata": {},
     "output_type": "execute_result"
    }
   ],
   "source": [
    "df_allcopy=df_all.copy()\n",
    "df_allcopy.dtypes"
   ]
  },
  {
   "cell_type": "markdown",
   "metadata": {},
   "source": [
    "The `time_serial` means a serial number to the time.\n",
    "\n",
    "The `password` is the prize number\n",
    "\n",
    "The `way1`, `way2`, `way3` are the amounts of winning bets for the three ways, and those `way_number` mean the prizes to the ways."
   ]
  },
  {
   "cell_type": "code",
   "execution_count": 4,
   "metadata": {
    "scrolled": false
   },
   "outputs": [
    {
     "data": {
      "text/html": [
       "<div>\n",
       "<style scoped>\n",
       "    .dataframe tbody tr th:only-of-type {\n",
       "        vertical-align: middle;\n",
       "    }\n",
       "\n",
       "    .dataframe tbody tr th {\n",
       "        vertical-align: top;\n",
       "    }\n",
       "\n",
       "    .dataframe thead th {\n",
       "        text-align: right;\n",
       "    }\n",
       "</style>\n",
       "<table border=\"1\" class=\"dataframe\">\n",
       "  <thead>\n",
       "    <tr style=\"text-align: right;\">\n",
       "      <th></th>\n",
       "      <th>time_serial</th>\n",
       "      <th>password</th>\n",
       "      <th>way1</th>\n",
       "      <th>way1_number</th>\n",
       "      <th>way2</th>\n",
       "      <th>way2_number</th>\n",
       "      <th>way3</th>\n",
       "      <th>way3_number</th>\n",
       "      <th>total_sales</th>\n",
       "      <th>time</th>\n",
       "    </tr>\n",
       "  </thead>\n",
       "  <tbody>\n",
       "    <tr>\n",
       "      <th>0</th>\n",
       "      <td>20098</td>\n",
       "      <td>4 4 9</td>\n",
       "      <td>8148</td>\n",
       "      <td>1040</td>\n",
       "      <td>10839</td>\n",
       "      <td>346</td>\n",
       "      <td>0</td>\n",
       "      <td>173</td>\n",
       "      <td>25,888,230</td>\n",
       "      <td>2020/5/27</td>\n",
       "    </tr>\n",
       "    <tr>\n",
       "      <th>1</th>\n",
       "      <td>20097</td>\n",
       "      <td>9 3 5</td>\n",
       "      <td>9422</td>\n",
       "      <td>1040</td>\n",
       "      <td>0</td>\n",
       "      <td>346</td>\n",
       "      <td>31680</td>\n",
       "      <td>173</td>\n",
       "      <td>25,527,170</td>\n",
       "      <td>2020/5/26</td>\n",
       "    </tr>\n",
       "    <tr>\n",
       "      <th>2</th>\n",
       "      <td>20096</td>\n",
       "      <td>7 1 8</td>\n",
       "      <td>11124</td>\n",
       "      <td>1040</td>\n",
       "      <td>0</td>\n",
       "      <td>346</td>\n",
       "      <td>40734</td>\n",
       "      <td>173</td>\n",
       "      <td>26,909,786</td>\n",
       "      <td>2020/5/25</td>\n",
       "    </tr>\n",
       "    <tr>\n",
       "      <th>3</th>\n",
       "      <td>20095</td>\n",
       "      <td>4 2 5</td>\n",
       "      <td>12017</td>\n",
       "      <td>1040</td>\n",
       "      <td>0</td>\n",
       "      <td>346</td>\n",
       "      <td>34704</td>\n",
       "      <td>173</td>\n",
       "      <td>24,962,754</td>\n",
       "      <td>2020/5/24</td>\n",
       "    </tr>\n",
       "    <tr>\n",
       "      <th>4</th>\n",
       "      <td>20094</td>\n",
       "      <td>3 2 8</td>\n",
       "      <td>17743</td>\n",
       "      <td>1040</td>\n",
       "      <td>0</td>\n",
       "      <td>346</td>\n",
       "      <td>58498</td>\n",
       "      <td>173</td>\n",
       "      <td>26,033,312</td>\n",
       "      <td>2020/5/23</td>\n",
       "    </tr>\n",
       "  </tbody>\n",
       "</table>\n",
       "</div>"
      ],
      "text/plain": [
       "   time_serial password   way1  way1_number   way2  way2_number   way3  \\\n",
       "0        20098    4 4 9   8148         1040  10839          346      0   \n",
       "1        20097    9 3 5   9422         1040      0          346  31680   \n",
       "2        20096    7 1 8  11124         1040      0          346  40734   \n",
       "3        20095    4 2 5  12017         1040      0          346  34704   \n",
       "4        20094    3 2 8  17743         1040      0          346  58498   \n",
       "\n",
       "   way3_number total_sales       time  \n",
       "0          173  25,888,230  2020/5/27  \n",
       "1          173  25,527,170  2020/5/26  \n",
       "2          173  26,909,786  2020/5/25  \n",
       "3          173  24,962,754  2020/5/24  \n",
       "4          173  26,033,312  2020/5/23  "
      ]
     },
     "execution_count": 4,
     "metadata": {},
     "output_type": "execute_result"
    }
   ],
   "source": [
    "df_allcopy.head(5)"
   ]
  },
  {
   "cell_type": "markdown",
   "metadata": {},
   "source": [
    "## 2-2 clean the data"
   ]
  },
  {
   "cell_type": "code",
   "execution_count": 5,
   "metadata": {},
   "outputs": [
    {
     "data": {
      "text/html": [
       "<div>\n",
       "<style scoped>\n",
       "    .dataframe tbody tr th:only-of-type {\n",
       "        vertical-align: middle;\n",
       "    }\n",
       "\n",
       "    .dataframe tbody tr th {\n",
       "        vertical-align: top;\n",
       "    }\n",
       "\n",
       "    .dataframe thead th {\n",
       "        text-align: right;\n",
       "    }\n",
       "</style>\n",
       "<table border=\"1\" class=\"dataframe\">\n",
       "  <thead>\n",
       "    <tr style=\"text-align: right;\">\n",
       "      <th></th>\n",
       "      <th>time_serial</th>\n",
       "      <th>password</th>\n",
       "      <th>way1</th>\n",
       "      <th>way1_number</th>\n",
       "      <th>way2</th>\n",
       "      <th>way2_number</th>\n",
       "      <th>way3</th>\n",
       "      <th>way3_number</th>\n",
       "      <th>total_sales</th>\n",
       "      <th>password_1</th>\n",
       "      <th>password_2</th>\n",
       "      <th>password_3</th>\n",
       "    </tr>\n",
       "    <tr>\n",
       "      <th>time</th>\n",
       "      <th></th>\n",
       "      <th></th>\n",
       "      <th></th>\n",
       "      <th></th>\n",
       "      <th></th>\n",
       "      <th></th>\n",
       "      <th></th>\n",
       "      <th></th>\n",
       "      <th></th>\n",
       "      <th></th>\n",
       "      <th></th>\n",
       "      <th></th>\n",
       "    </tr>\n",
       "  </thead>\n",
       "  <tbody>\n",
       "    <tr>\n",
       "      <th>2020-05-27</th>\n",
       "      <td>20098</td>\n",
       "      <td>4 4 9</td>\n",
       "      <td>8148</td>\n",
       "      <td>1040</td>\n",
       "      <td>10839</td>\n",
       "      <td>346</td>\n",
       "      <td>0</td>\n",
       "      <td>173</td>\n",
       "      <td>25888230.0</td>\n",
       "      <td>4</td>\n",
       "      <td>4</td>\n",
       "      <td>9</td>\n",
       "    </tr>\n",
       "    <tr>\n",
       "      <th>2020-05-26</th>\n",
       "      <td>20097</td>\n",
       "      <td>9 3 5</td>\n",
       "      <td>9422</td>\n",
       "      <td>1040</td>\n",
       "      <td>0</td>\n",
       "      <td>346</td>\n",
       "      <td>31680</td>\n",
       "      <td>173</td>\n",
       "      <td>25527170.0</td>\n",
       "      <td>9</td>\n",
       "      <td>3</td>\n",
       "      <td>5</td>\n",
       "    </tr>\n",
       "    <tr>\n",
       "      <th>2020-05-25</th>\n",
       "      <td>20096</td>\n",
       "      <td>7 1 8</td>\n",
       "      <td>11124</td>\n",
       "      <td>1040</td>\n",
       "      <td>0</td>\n",
       "      <td>346</td>\n",
       "      <td>40734</td>\n",
       "      <td>173</td>\n",
       "      <td>26909786.0</td>\n",
       "      <td>7</td>\n",
       "      <td>1</td>\n",
       "      <td>8</td>\n",
       "    </tr>\n",
       "    <tr>\n",
       "      <th>2020-05-24</th>\n",
       "      <td>20095</td>\n",
       "      <td>4 2 5</td>\n",
       "      <td>12017</td>\n",
       "      <td>1040</td>\n",
       "      <td>0</td>\n",
       "      <td>346</td>\n",
       "      <td>34704</td>\n",
       "      <td>173</td>\n",
       "      <td>24962754.0</td>\n",
       "      <td>4</td>\n",
       "      <td>2</td>\n",
       "      <td>5</td>\n",
       "    </tr>\n",
       "    <tr>\n",
       "      <th>2020-05-23</th>\n",
       "      <td>20094</td>\n",
       "      <td>3 2 8</td>\n",
       "      <td>17743</td>\n",
       "      <td>1040</td>\n",
       "      <td>0</td>\n",
       "      <td>346</td>\n",
       "      <td>58498</td>\n",
       "      <td>173</td>\n",
       "      <td>26033312.0</td>\n",
       "      <td>3</td>\n",
       "      <td>2</td>\n",
       "      <td>8</td>\n",
       "    </tr>\n",
       "  </tbody>\n",
       "</table>\n",
       "</div>"
      ],
      "text/plain": [
       "            time_serial password   way1  way1_number   way2  way2_number  \\\n",
       "time                                                                       \n",
       "2020-05-27        20098    4 4 9   8148         1040  10839          346   \n",
       "2020-05-26        20097    9 3 5   9422         1040      0          346   \n",
       "2020-05-25        20096    7 1 8  11124         1040      0          346   \n",
       "2020-05-24        20095    4 2 5  12017         1040      0          346   \n",
       "2020-05-23        20094    3 2 8  17743         1040      0          346   \n",
       "\n",
       "             way3  way3_number  total_sales  password_1  password_2  \\\n",
       "time                                                                  \n",
       "2020-05-27      0          173   25888230.0           4           4   \n",
       "2020-05-26  31680          173   25527170.0           9           3   \n",
       "2020-05-25  40734          173   26909786.0           7           1   \n",
       "2020-05-24  34704          173   24962754.0           4           2   \n",
       "2020-05-23  58498          173   26033312.0           3           2   \n",
       "\n",
       "            password_3  \n",
       "time                    \n",
       "2020-05-27           9  \n",
       "2020-05-26           5  \n",
       "2020-05-25           8  \n",
       "2020-05-24           5  \n",
       "2020-05-23           8  "
      ]
     },
     "execution_count": 5,
     "metadata": {},
     "output_type": "execute_result"
    }
   ],
   "source": [
    "df_allcopy['time'] = pd.to_datetime(df_allcopy['time'])\n",
    "\n",
    "#split the 'password' into three columns\n",
    "df_allcopy['password_1'] = df_allcopy['password'].str.split(' ').str[0].astype(int)\n",
    "df_allcopy['password_2'] = df_allcopy['password'].str.split(' ').str[1].astype(int)\n",
    "df_allcopy['password_3'] = df_allcopy['password'].str.split(' ').str[2].astype(int)\n",
    "\n",
    "# chenge the '- -' in df_allcopy['way3'] with '0' and chenge the values into 'int'\n",
    "df_allcopy.loc[df_allcopy['way3']=='- -', 'way3'] = 0\n",
    "df_allcopy['way3'] = df_allcopy['way3'].astype(int)\n",
    "\n",
    "# dope the '- -' in df_allcopy['total_sales'] and chenge the values into 'float'\n",
    "df_allcopy.loc[df_allcopy['total_sales']=='- -', 'total_sales'] = np.nan\n",
    "df_allcopy['total_sales'] = df_allcopy['total_sales'].str.replace(',', '').astype(float)\n",
    "\n",
    "\n",
    "df_A = df_allcopy.set_index('time')\n",
    "df_A.head(5)"
   ]
  },
  {
   "cell_type": "code",
   "execution_count": 6,
   "metadata": {
    "scrolled": true
   },
   "outputs": [
    {
     "name": "stdout",
     "output_type": "stream",
     "text": [
      "<class 'pandas.core.frame.DataFrame'>\n",
      "DatetimeIndex: 5505 entries, 2020-05-27 to 2004-11-14\n",
      "Data columns (total 12 columns):\n",
      " #   Column       Non-Null Count  Dtype  \n",
      "---  ------       --------------  -----  \n",
      " 0   time_serial  5505 non-null   int64  \n",
      " 1   password     5505 non-null   object \n",
      " 2   way1         5505 non-null   int64  \n",
      " 3   way1_number  5505 non-null   int64  \n",
      " 4   way2         5505 non-null   int64  \n",
      " 5   way2_number  5505 non-null   int64  \n",
      " 6   way3         5505 non-null   int32  \n",
      " 7   way3_number  5505 non-null   int64  \n",
      " 8   total_sales  1345 non-null   float64\n",
      " 9   password_1   5505 non-null   int32  \n",
      " 10  password_2   5505 non-null   int32  \n",
      " 11  password_3   5505 non-null   int32  \n",
      "dtypes: float64(1), int32(4), int64(6), object(1)\n",
      "memory usage: 473.1+ KB\n"
     ]
    }
   ],
   "source": [
    "df_A.info()"
   ]
  },
  {
   "cell_type": "markdown",
   "metadata": {},
   "source": [
    "## 2-3 Supplementary datas"
   ]
  },
  {
   "cell_type": "markdown",
   "metadata": {},
   "source": [
    "The column `total_sales` that means the total sale for one time has only 1345 values, which are not enough.\n",
    "\n",
    "The following datas \n",
    "In the [Official website of the lottery ticket](https://www.lottery.gov.cn/historykj/history.jspx?_ltype=pls), there are links to some new websites, such as [this](https://pdf.sporttery.cn/28200/20107/20107.pdf). And I use a `reptile` to get more datas and save as csv.\n"
   ]
  },
  {
   "cell_type": "markdown",
   "metadata": {},
   "source": [
    "### 2-3-1 clean the data\n",
    "I won't show the details of the primeval data by using a data-clean function."
   ]
  },
  {
   "cell_type": "code",
   "execution_count": 7,
   "metadata": {},
   "outputs": [],
   "source": [
    "#data-clean function\n",
    "def csv_clean1(url):\n",
    "    df_new = pd.read_csv(url)\n",
    "    strftime = \"%Y%m%d\" \n",
    "    df_new.loc[:, 'date'] = pd.to_datetime(df_new['date'] , format = strftime)\n",
    "    df_new.loc[:, 'amount'] = df_new['amount'].str.replace(',', '').astype(float)\n",
    "    df_new.loc[:, 'result'] = df_new['result'].str.replace(' ', '').str.replace('、', '').astype(int)\n",
    "    \n",
    "    df1=df_new.set_index('date')\n",
    "    return df1"
   ]
  },
  {
   "cell_type": "code",
   "execution_count": 8,
   "metadata": {
    "scrolled": false
   },
   "outputs": [
    {
     "name": "stdout",
     "output_type": "stream",
     "text": [
      "<class 'pandas.core.frame.DataFrame'>\n",
      "DatetimeIndex: 909 entries, 2010-04-28 to 2012-11-05\n",
      "Data columns (total 2 columns):\n",
      " #   Column  Non-Null Count  Dtype  \n",
      "---  ------  --------------  -----  \n",
      " 0   amount  909 non-null    float64\n",
      " 1   result  909 non-null    int32  \n",
      "dtypes: float64(1), int32(1)\n",
      "memory usage: 17.8 KB\n"
     ]
    }
   ],
   "source": [
    "url1= \"data12897--13500-1.csv\"\n",
    "url2= \"data13500--13796-1.csv\"\n",
    "#url3= \"data13796--13806-1.csv\"\n",
    "df1=pd.concat([csv_clean1(url1), csv_clean1(url2)], axis=0)\n",
    "df1.info()"
   ]
  },
  {
   "cell_type": "code",
   "execution_count": 9,
   "metadata": {},
   "outputs": [],
   "source": [
    "#data-clean function\n",
    "def csv_clean2(url):\n",
    "    df_new = pd.read_csv(url)\n",
    "    \n",
    "    #chenge the time datas in str into datatime\n",
    "    strftime = \"%Y年%m月%d日\"  # the time datas of the csv contain Chinese\n",
    "    df_new.loc[:, 'date'] = pd.to_datetime(df_new['date'].str.replace(' ', ''), format= strftime)\n",
    "    \n",
    "    #chenge tother datas in str into str\n",
    "    df_new.loc[:, 'amount'] = df_new['amount'].str.replace(',', '').astype(int)\n",
    "    df_new.loc[df_new['amount']==-1, 'amount'] = np.nan\n",
    "    df_new.loc[:, 'result'] = df_new['result'].str.replace(' ', '').astype(int)\n",
    "    \n",
    "    df1=df_new.set_index('date')\n",
    "    return df1"
   ]
  },
  {
   "cell_type": "code",
   "execution_count": 10,
   "metadata": {
    "scrolled": false
   },
   "outputs": [],
   "source": [
    "url4= \"data13806--14445-1--na.csv\"\n",
    "df_10=csv_clean2(url4)\n",
    "url5= \"data14000--14233-1.csv\"\n",
    "url6= \"data14233--14445-1--na.csv\"\n",
    "url7= \"data14445--15058-1.csv\"\n",
    "df9=pd.concat([ csv_clean2(url5), csv_clean2(url6), csv_clean2(url7)], axis = 0)"
   ]
  },
  {
   "cell_type": "markdown",
   "metadata": {},
   "source": [
    "some datas of `df_10` are same as other datas in `df9`. So, let's merge them."
   ]
  },
  {
   "cell_type": "code",
   "execution_count": 11,
   "metadata": {
    "scrolled": false
   },
   "outputs": [
    {
     "name": "stdout",
     "output_type": "stream",
     "text": [
      "<class 'pandas.core.frame.DataFrame'>\n",
      "DatetimeIndex: 2161 entries, 2010-04-28 to 2016-05-09\n",
      "Data columns (total 2 columns):\n",
      " #   Column  Non-Null Count  Dtype  \n",
      "---  ------  --------------  -----  \n",
      " 0   amount  2023 non-null   float64\n",
      " 1   result  2161 non-null   float64\n",
      "dtypes: float64(2)\n",
      "memory usage: 50.6 KB\n"
     ]
    }
   ],
   "source": [
    "#rename df_10\n",
    "names={\n",
    "    'amount': 'amount2',\n",
    "    'result': 'result2'\n",
    "}\n",
    "df_10.rename(columns=names, inplace=True)\n",
    "\n",
    "#merge, the datas from different dataframes have different tags\n",
    "df11 = df9.merge(df_10,left_index=True, right_index= True , how=\"outer\")\n",
    "\n",
    "#if the values in df9 is nan ,I replace them with the value in df_10\n",
    "df11.loc[df11['amount'].isnull(), 'amount']=df11.loc[df11['amount'].isnull(), 'amount2']\n",
    "df11.loc[df11['result'].isnull(), 'result']=df11.loc[df11['result'].isnull(), 'result2']\n",
    "\n",
    "df_B = pd.concat([df1, df11.loc[:, ['amount', 'result']]], axis=0)\n",
    "df_B.info()"
   ]
  },
  {
   "cell_type": "markdown",
   "metadata": {},
   "source": [
    "### 2-3-2 merge and complete the two dataframe"
   ]
  },
  {
   "cell_type": "code",
   "execution_count": 12,
   "metadata": {
    "scrolled": false
   },
   "outputs": [
    {
     "name": "stdout",
     "output_type": "stream",
     "text": [
      "<class 'pandas.core.frame.DataFrame'>\n",
      "DatetimeIndex: 5505 entries, 2020-05-27 to 2004-11-14\n",
      "Data columns (total 16 columns):\n",
      " #   Column          Non-Null Count  Dtype  \n",
      "---  ------          --------------  -----  \n",
      " 0   time_serial     5505 non-null   int64  \n",
      " 1   password        5505 non-null   object \n",
      " 2   way1            5505 non-null   int64  \n",
      " 3   way1_number     5505 non-null   int64  \n",
      " 4   way2            5505 non-null   int64  \n",
      " 5   way2_number     5505 non-null   int64  \n",
      " 6   way3            5505 non-null   int32  \n",
      " 7   way3_number     5505 non-null   int64  \n",
      " 8   total_sales     3368 non-null   float64\n",
      " 9   password_1      5505 non-null   int32  \n",
      " 10  password_2      5505 non-null   int32  \n",
      " 11  password_3      5505 non-null   int32  \n",
      " 12  amount          2023 non-null   float64\n",
      " 13  result          2161 non-null   float64\n",
      " 14  total_prize     5505 non-null   int64  \n",
      " 15  ratio_of_prize  3368 non-null   float64\n",
      "dtypes: float64(4), int32(4), int64(7), object(1)\n",
      "memory usage: 805.1+ KB\n"
     ]
    }
   ],
   "source": [
    "df_total = df_A.merge(df_B,left_index=True, right_index= True , how=\"left\")\n",
    "df_total.loc[df_total['total_sales'].isnull(),'total_sales' ] = df_total.loc[df_total['total_sales'].isnull(),'amount' ]\n",
    "\n",
    "#get the ratio of prize and the total prizes\n",
    "df_total['total_prize'] = df_total['way1']*df_total['way1_number']+df_total['way2']*df_total['way2_number']+df_total['way3']*df_total['way3_number']\n",
    "df_total['ratio_of_prize'] = df_total['total_prize']/df_total['total_sales']\n",
    "df_total.info()"
   ]
  },
  {
   "cell_type": "markdown",
   "metadata": {},
   "source": [
    "# 3 is the password  stochastic?"
   ]
  },
  {
   "cell_type": "markdown",
   "metadata": {},
   "source": [
    "if the password is stochastic, each number obeys the distribution (Recording as `P`) independently.\n",
    "\n",
    "There are 3 numbers for each period. For convenience, I average them. The mean obeys another distribution(Recording as `Q`) independently."
   ]
  },
  {
   "cell_type": "code",
   "execution_count": 13,
   "metadata": {
    "scrolled": true
   },
   "outputs": [
    {
     "name": "stdout",
     "output_type": "stream",
     "text": [
      "4.5 2.75\n"
     ]
    }
   ],
   "source": [
    "#the mean and var of Q\n",
    "var_theory_Q=np.arange(10).var()/3\n",
    "mean_theory_Q=np.arange(10).mean()\n",
    "\n",
    "print(mean_theory_Q, var_theory_Q)"
   ]
  },
  {
   "cell_type": "markdown",
   "metadata": {},
   "source": [
    "when average the mean of the 3 numbers for each period -- Q, we get a distribution(Recording as `NQ`) "
   ]
  },
  {
   "cell_type": "code",
   "execution_count": 14,
   "metadata": {
    "scrolled": false
   },
   "outputs": [
    {
     "data": {
      "text/html": [
       "<div>\n",
       "<style scoped>\n",
       "    .dataframe tbody tr th:only-of-type {\n",
       "        vertical-align: middle;\n",
       "    }\n",
       "\n",
       "    .dataframe tbody tr th {\n",
       "        vertical-align: top;\n",
       "    }\n",
       "\n",
       "    .dataframe thead th {\n",
       "        text-align: right;\n",
       "    }\n",
       "</style>\n",
       "<table border=\"1\" class=\"dataframe\">\n",
       "  <thead>\n",
       "    <tr style=\"text-align: right;\">\n",
       "      <th></th>\n",
       "      <th>mean</th>\n",
       "      <th>e</th>\n",
       "      <th>e_pdf</th>\n",
       "    </tr>\n",
       "  </thead>\n",
       "  <tbody>\n",
       "    <tr>\n",
       "      <th>count</th>\n",
       "      <td>27.000000</td>\n",
       "      <td>27.000000</td>\n",
       "      <td>27.000000</td>\n",
       "    </tr>\n",
       "    <tr>\n",
       "      <th>mean</th>\n",
       "      <td>4.564259</td>\n",
       "      <td>0.548005</td>\n",
       "      <td>0.262317</td>\n",
       "    </tr>\n",
       "    <tr>\n",
       "      <th>std</th>\n",
       "      <td>0.113061</td>\n",
       "      <td>0.964186</td>\n",
       "      <td>0.125638</td>\n",
       "    </tr>\n",
       "    <tr>\n",
       "      <th>min</th>\n",
       "      <td>4.363333</td>\n",
       "      <td>-1.165497</td>\n",
       "      <td>0.047707</td>\n",
       "    </tr>\n",
       "    <tr>\n",
       "      <th>25%</th>\n",
       "      <td>4.460000</td>\n",
       "      <td>-0.341121</td>\n",
       "      <td>0.156323</td>\n",
       "    </tr>\n",
       "    <tr>\n",
       "      <th>50%</th>\n",
       "      <td>4.570000</td>\n",
       "      <td>0.596962</td>\n",
       "      <td>0.303592</td>\n",
       "    </tr>\n",
       "    <tr>\n",
       "      <th>75%</th>\n",
       "      <td>4.660833</td>\n",
       "      <td>1.371591</td>\n",
       "      <td>0.373573</td>\n",
       "    </tr>\n",
       "    <tr>\n",
       "      <th>max</th>\n",
       "      <td>4.741667</td>\n",
       "      <td>2.060940</td>\n",
       "      <td>0.394933</td>\n",
       "    </tr>\n",
       "  </tbody>\n",
       "</table>\n",
       "</div>"
      ],
      "text/plain": [
       "            mean          e      e_pdf\n",
       "count  27.000000  27.000000  27.000000\n",
       "mean    4.564259   0.548005   0.262317\n",
       "std     0.113061   0.964186   0.125638\n",
       "min     4.363333  -1.165497   0.047707\n",
       "25%     4.460000  -0.341121   0.156323\n",
       "50%     4.570000   0.596962   0.303592\n",
       "75%     4.660833   1.371591   0.373573\n",
       "max     4.741667   2.060940   0.394933"
      ]
     },
     "execution_count": 14,
     "metadata": {},
     "output_type": "execute_result"
    }
   ],
   "source": [
    "data_3_1_df = df_total.loc[:, ['password_1', 'password_2', 'password_3']]\n",
    "#get Q\n",
    "data_3_1_df['Q'] = data_3_1_df.mean(axis=1)\n",
    "\n",
    "#get the mean and var of distributions--NQ\n",
    "N=200\n",
    "data_3_1_df['mean'] = data_3_1_df['Q'].rolling(N).mean()\n",
    "#data_3_1_df['var'] = data_3_1_df['Q'].rolling(N).var()\n",
    "#data_3_1_df['var_of_mean'] = data_3_1_df['var']/N\n",
    "\n",
    "#the mean and var of NQ on theory\n",
    "mean_theory_NQ= mean_theory_Q\n",
    "var_theory_NQ= var_theory_Q/N\n",
    "\n",
    "#get the independent distributions--NQ\n",
    "data_3_1_plot = data_3_1_df.iloc[range(N-1, 5505, N ),4:]\n",
    "\n",
    "#Standardize NQ\n",
    "data_3_1_plot['e'] = (data_3_1_plot['mean']-mean_theory_NQ)/(var_theory_NQ)**0.5\n",
    "data_3_1_plot['e_pdf']=st.norm.pdf(data_3_1_plot['e'])\n",
    "\n",
    "data_3_1_plot.describe()"
   ]
  },
  {
   "cell_type": "markdown",
   "metadata": {},
   "source": [
    "`N=200`,NQ contains 200 independent distributions--Q, or 600 independent distributions--P.\n",
    "\n",
    "According to the `Central limit theorem`, NQ obeys independent normal distributions--`N(mean_theory_NQ,var_theory_NQ)`approximately"
   ]
  },
  {
   "cell_type": "code",
   "execution_count": 15,
   "metadata": {},
   "outputs": [
    {
     "data": {
      "image/png": "[encoded data removed]",
      "text/plain": [
       "<Figure size 432x288 with 1 Axes>"
      ]
     },
     "metadata": {
      "needs_background": "light"
     },
     "output_type": "display_data"
    }
   ],
   "source": [
    "fig, ax = plt.subplots(1)\n",
    "data_3_1_plot.plot(\n",
    "    ax=ax,\n",
    "    kind='scatter',\n",
    "    x='e',\n",
    "    y='e_pdf',\n",
    "    s=8,\n",
    "    c='black'\n",
    ");\n",
    "\n",
    "\n",
    "a=np.linspace(-4,4,100)\n",
    "plt.plot(a,st.norm.pdf(a),color='y')\n",
    "\n",
    "\n",
    "# 5%\n",
    "x=st.norm.isf(0.025)\n",
    "y=st.norm.pdf(x)\n",
    "plt.vlines(st.norm.isf(0.025),0,y,ls='--' ,color='b');\n",
    "plt.vlines(-st.norm.isf(0.025),0,y,ls='--',color='b');\n",
    "\n",
    "# 1%\n",
    "y2=st.norm.pdf(st.norm.isf(0.005))\n",
    "plt.vlines(st.norm.isf(0.005),0,y2,ls='--',color='r');\n",
    "plt.vlines(-st.norm.isf(0.005),0,y2,ls='--',color='r');"
   ]
  },
  {
   "cell_type": "markdown",
   "metadata": {},
   "source": [
    "We can see that of the 27 observations, two numbers are not within the 95% confidence interval. While, all observations are within the 99% confidence interval.\n",
    "\n",
    "But there is still a problem. It seems that most of the observations are on the right side(>0)."
   ]
  },
  {
   "cell_type": "markdown",
   "metadata": {},
   "source": [
    "adjust the `N` to 5500"
   ]
  },
  {
   "cell_type": "code",
   "execution_count": 16,
   "metadata": {},
   "outputs": [],
   "source": [
    "data_3_1_df = df_total.loc[:, ['password_1', 'password_2', 'password_3']]\n",
    "#get Q\n",
    "data_3_1_df['Q'] = data_3_1_df.mean(axis=1)\n",
    "\n",
    "#get the mean and var of distributions--NQ\n",
    "N=5500\n",
    "data_3_1_df['mean'] = data_3_1_df['Q'].rolling(N).mean()\n",
    "\n",
    "#the mean and var of NQ on theory\n",
    "mean_theory_NQ= mean_theory_Q\n",
    "var_theory_NQ= var_theory_Q/N\n",
    "\n",
    "#get the independent distributions--NQ\n",
    "data_3_1_plot = data_3_1_df.iloc[range(N-1, 5505, N ),4:]\n",
    "\n",
    "#Standardize NQ\n",
    "data_3_1_plot['e'] = (data_3_1_plot['mean']-mean_theory_NQ)/(var_theory_NQ)**0.5\n",
    "data_3_1_plot['e_pdf']=st.norm.pdf(data_3_1_plot['e'])"
   ]
  },
  {
   "cell_type": "markdown",
   "metadata": {},
   "source": [
    "`N=5500`\n",
    "\n",
    "According to the `Central limit theorem`, NQ obeys independent normal distributions--`N(mean_theory_NQ,var_theory_NQ)`practically."
   ]
  },
  {
   "cell_type": "code",
   "execution_count": 17,
   "metadata": {},
   "outputs": [
    {
     "data": {
      "image/png": "[encoded data removed]",
      "text/plain": [
       "<Figure size 432x288 with 1 Axes>"
      ]
     },
     "metadata": {
      "needs_background": "light"
     },
     "output_type": "display_data"
    }
   ],
   "source": [
    "fig, ax = plt.subplots(1)\n",
    "data_3_1_plot.plot(\n",
    "    ax=ax,\n",
    "    kind='scatter',\n",
    "    x='e',\n",
    "    y='e_pdf',\n",
    "    s=8,\n",
    "    c='black'\n",
    ");\n",
    "\n",
    "a=np.linspace(-4,4,100)\n",
    "plt.plot(a,st.norm.pdf(a),color='y')\n",
    "\n",
    "# 5%\n",
    "x=st.norm.isf(0.025)\n",
    "y=st.norm.pdf(x)\n",
    "plt.vlines(st.norm.isf(0.025),0,y,ls='--' ,color='b');\n",
    "plt.vlines(-st.norm.isf(0.025),0,y,ls='--',color='b');\n",
    "\n",
    "# 1%\n",
    "y2=st.norm.pdf(st.norm.isf(0.005))\n",
    "plt.vlines(st.norm.isf(0.005),0,y2,ls='--',color='r');\n",
    "plt.vlines(-st.norm.isf(0.005),0,y2,ls='--',color='r');"
   ]
  },
  {
   "cell_type": "markdown",
   "metadata": {},
   "source": [
    "We can see that the number is out of the 95% confidence interval, even on the edge the 99% confidence interval. As the same time,the observation is on the right side(>0).\n",
    "\n",
    "So, the randomness of the numbers is not as perfect as we think."
   ]
  },
  {
   "cell_type": "markdown",
   "metadata": {},
   "source": [
    "# 4 the sale & ratio"
   ]
  },
  {
   "cell_type": "markdown",
   "metadata": {},
   "source": [
    "## 4-1 In general"
   ]
  },
  {
   "cell_type": "code",
   "execution_count": 18,
   "metadata": {},
   "outputs": [],
   "source": [
    "#get a dataframe with the complete time series\n",
    "value = {'nan': np.nan}\n",
    "time = pd.date_range(start='2004-11-14', end='2020-05-27')\n",
    "df_time = pd.DataFrame(value, index=time)\n",
    "a = [ 'way1', 'way2', 'way3', 'total_sales', 'total_prize']\n",
    "data_4_1_df = df_time.merge(df_total.loc[:, a].dropna(),left_index=True, right_index= True , how=\"left\").iloc[:, 1:]"
   ]
  },
  {
   "cell_type": "markdown",
   "metadata": {},
   "source": [
    "### 4-1-1 the total sales"
   ]
  },
  {
   "cell_type": "code",
   "execution_count": 19,
   "metadata": {
    "scrolled": true
   },
   "outputs": [
    {
     "name": "stdout",
     "output_type": "stream",
     "text": [
      "<class 'pandas.core.frame.DataFrame'>\n",
      "DatetimeIndex: 41 entries, 2010-06-30 to 2020-06-30\n",
      "Freq: BQ-DEC\n",
      "Data columns (total 7 columns):\n",
      " #   Column          Non-Null Count  Dtype  \n",
      "---  ------          --------------  -----  \n",
      " 0   way1            41 non-null     float64\n",
      " 1   way2            41 non-null     float64\n",
      " 2   way3            41 non-null     float64\n",
      " 3   total_sales     41 non-null     float64\n",
      " 4   total_prize     41 non-null     float64\n",
      " 5   ratio_of_prize  41 non-null     float64\n",
      " 6   Y               41 non-null     int64  \n",
      "dtypes: float64(6), int64(1)\n",
      "memory usage: 2.6 KB\n"
     ]
    }
   ],
   "source": [
    "#get a dataframe with the mean of business quarter\n",
    "data_4_1_Q=data_4_1_df.resample(\"BQ\").mean()\n",
    "data_4_1_Q.dropna(inplace=True)\n",
    "data_4_1_Q['ratio_of_prize'] = data_4_1_Q.loc[:, 'total_prize']/data_4_1_Q.loc[:, 'total_sales']\n",
    "data_4_1_Q['Y']=data_4_1_Q.index.year\n",
    "\n",
    "data_4_1_Q.info()"
   ]
  },
  {
   "cell_type": "code",
   "execution_count": 20,
   "metadata": {
    "scrolled": false
   },
   "outputs": [
    {
     "data": {
      "text/html": [
       "<div>\n",
       "<style scoped>\n",
       "    .dataframe tbody tr th:only-of-type {\n",
       "        vertical-align: middle;\n",
       "    }\n",
       "\n",
       "    .dataframe tbody tr th {\n",
       "        vertical-align: top;\n",
       "    }\n",
       "\n",
       "    .dataframe thead th {\n",
       "        text-align: right;\n",
       "    }\n",
       "</style>\n",
       "<table border=\"1\" class=\"dataframe\">\n",
       "  <thead>\n",
       "    <tr style=\"text-align: right;\">\n",
       "      <th></th>\n",
       "      <th>way1</th>\n",
       "      <th>way2</th>\n",
       "      <th>way3</th>\n",
       "      <th>total_sales</th>\n",
       "      <th>total_prize</th>\n",
       "      <th>ratio_of_prize</th>\n",
       "      <th>Y</th>\n",
       "    </tr>\n",
       "  </thead>\n",
       "  <tbody>\n",
       "    <tr>\n",
       "      <th>2010-12-31</th>\n",
       "      <td>8169.415323</td>\n",
       "      <td>2431.403226</td>\n",
       "      <td>12527.794355</td>\n",
       "      <td>2.250945e+07</td>\n",
       "      <td>1.095191e+07</td>\n",
       "      <td>0.486547</td>\n",
       "      <td>2010</td>\n",
       "    </tr>\n",
       "    <tr>\n",
       "      <th>2011-12-31</th>\n",
       "      <td>8773.952514</td>\n",
       "      <td>1963.958101</td>\n",
       "      <td>11970.259777</td>\n",
       "      <td>2.317832e+07</td>\n",
       "      <td>1.131766e+07</td>\n",
       "      <td>0.488286</td>\n",
       "      <td>2011</td>\n",
       "    </tr>\n",
       "    <tr>\n",
       "      <th>2012-12-31</th>\n",
       "      <td>7589.482249</td>\n",
       "      <td>2025.369822</td>\n",
       "      <td>9459.044379</td>\n",
       "      <td>1.981185e+07</td>\n",
       "      <td>9.751048e+06</td>\n",
       "      <td>0.492183</td>\n",
       "      <td>2012</td>\n",
       "    </tr>\n",
       "    <tr>\n",
       "      <th>2013-12-31</th>\n",
       "      <td>6574.768025</td>\n",
       "      <td>1757.429467</td>\n",
       "      <td>7981.943574</td>\n",
       "      <td>1.720629e+07</td>\n",
       "      <td>8.414256e+06</td>\n",
       "      <td>0.489022</td>\n",
       "      <td>2013</td>\n",
       "    </tr>\n",
       "    <tr>\n",
       "      <th>2014-12-31</th>\n",
       "      <td>5801.340502</td>\n",
       "      <td>1585.340502</td>\n",
       "      <td>6981.899642</td>\n",
       "      <td>1.567297e+07</td>\n",
       "      <td>7.594769e+06</td>\n",
       "      <td>0.484578</td>\n",
       "      <td>2014</td>\n",
       "    </tr>\n",
       "  </tbody>\n",
       "</table>\n",
       "</div>"
      ],
      "text/plain": [
       "                   way1         way2          way3   total_sales  \\\n",
       "2010-12-31  8169.415323  2431.403226  12527.794355  2.250945e+07   \n",
       "2011-12-31  8773.952514  1963.958101  11970.259777  2.317832e+07   \n",
       "2012-12-31  7589.482249  2025.369822   9459.044379  1.981185e+07   \n",
       "2013-12-31  6574.768025  1757.429467   7981.943574  1.720629e+07   \n",
       "2014-12-31  5801.340502  1585.340502   6981.899642  1.567297e+07   \n",
       "\n",
       "             total_prize  ratio_of_prize     Y  \n",
       "2010-12-31  1.095191e+07        0.486547  2010  \n",
       "2011-12-31  1.131766e+07        0.488286  2011  \n",
       "2012-12-31  9.751048e+06        0.492183  2012  \n",
       "2013-12-31  8.414256e+06        0.489022  2013  \n",
       "2014-12-31  7.594769e+06        0.484578  2014  "
      ]
     },
     "execution_count": 20,
     "metadata": {},
     "output_type": "execute_result"
    }
   ],
   "source": [
    "#get a dataframe with the mean of year\n",
    "data_4_1_Y=data_4_1_df.resample(\"Y\").mean()\n",
    "data_4_1_Y.dropna(inplace=True)\n",
    "data_4_1_Y['ratio_of_prize'] = data_4_1_Y.loc[:, 'total_prize']/data_4_1_Y.loc[:, 'total_sales']\n",
    "data_4_1_Y['Y']=data_4_1_Y.index.year\n",
    "data_4_1_Y.head()"
   ]
  },
  {
   "cell_type": "code",
   "execution_count": 21,
   "metadata": {},
   "outputs": [
    {
     "data": {
      "text/html": [
       "<div>\n",
       "<style scoped>\n",
       "    .dataframe tbody tr th:only-of-type {\n",
       "        vertical-align: middle;\n",
       "    }\n",
       "\n",
       "    .dataframe tbody tr th {\n",
       "        vertical-align: top;\n",
       "    }\n",
       "\n",
       "    .dataframe thead th {\n",
       "        text-align: right;\n",
       "    }\n",
       "</style>\n",
       "<table border=\"1\" class=\"dataframe\">\n",
       "  <thead>\n",
       "    <tr style=\"text-align: right;\">\n",
       "      <th></th>\n",
       "      <th>way1_x</th>\n",
       "      <th>way2_x</th>\n",
       "      <th>way3_x</th>\n",
       "      <th>total_sales_x</th>\n",
       "      <th>total_prize_x</th>\n",
       "      <th>ratio_of_prize_x</th>\n",
       "      <th>Y</th>\n",
       "      <th>index_y</th>\n",
       "      <th>way1_y</th>\n",
       "      <th>way2_y</th>\n",
       "      <th>way3_y</th>\n",
       "      <th>total_sales_y</th>\n",
       "      <th>total_prize_y</th>\n",
       "      <th>ratio_of_prize_y</th>\n",
       "      <th>Q/Y</th>\n",
       "    </tr>\n",
       "    <tr>\n",
       "      <th>index_x</th>\n",
       "      <th></th>\n",
       "      <th></th>\n",
       "      <th></th>\n",
       "      <th></th>\n",
       "      <th></th>\n",
       "      <th></th>\n",
       "      <th></th>\n",
       "      <th></th>\n",
       "      <th></th>\n",
       "      <th></th>\n",
       "      <th></th>\n",
       "      <th></th>\n",
       "      <th></th>\n",
       "      <th></th>\n",
       "      <th></th>\n",
       "    </tr>\n",
       "  </thead>\n",
       "  <tbody>\n",
       "    <tr>\n",
       "      <th>2010-06-30</th>\n",
       "      <td>7657.468750</td>\n",
       "      <td>2062.234375</td>\n",
       "      <td>12303.546875</td>\n",
       "      <td>2.328062e+07</td>\n",
       "      <td>1.028595e+07</td>\n",
       "      <td>0.441825</td>\n",
       "      <td>2010</td>\n",
       "      <td>2010-12-31</td>\n",
       "      <td>8169.415323</td>\n",
       "      <td>2431.403226</td>\n",
       "      <td>12527.794355</td>\n",
       "      <td>2.250945e+07</td>\n",
       "      <td>1.095191e+07</td>\n",
       "      <td>0.486547</td>\n",
       "      <td>1.034260</td>\n",
       "    </tr>\n",
       "    <tr>\n",
       "      <th>2010-09-30</th>\n",
       "      <td>8477.021739</td>\n",
       "      <td>2239.652174</td>\n",
       "      <td>12485.782609</td>\n",
       "      <td>2.190322e+07</td>\n",
       "      <td>1.119144e+07</td>\n",
       "      <td>0.510949</td>\n",
       "      <td>2010</td>\n",
       "      <td>2010-12-31</td>\n",
       "      <td>8169.415323</td>\n",
       "      <td>2431.403226</td>\n",
       "      <td>12527.794355</td>\n",
       "      <td>2.250945e+07</td>\n",
       "      <td>1.095191e+07</td>\n",
       "      <td>0.486547</td>\n",
       "      <td>0.973068</td>\n",
       "    </tr>\n",
       "    <tr>\n",
       "      <th>2010-12-31</th>\n",
       "      <td>8217.945652</td>\n",
       "      <td>2879.967391</td>\n",
       "      <td>12725.804348</td>\n",
       "      <td>2.257920e+07</td>\n",
       "      <td>1.117566e+07</td>\n",
       "      <td>0.494954</td>\n",
       "      <td>2010</td>\n",
       "      <td>2010-12-31</td>\n",
       "      <td>8169.415323</td>\n",
       "      <td>2431.403226</td>\n",
       "      <td>12527.794355</td>\n",
       "      <td>2.250945e+07</td>\n",
       "      <td>1.095191e+07</td>\n",
       "      <td>0.486547</td>\n",
       "      <td>1.003099</td>\n",
       "    </tr>\n",
       "    <tr>\n",
       "      <th>2011-03-31</th>\n",
       "      <td>7997.963855</td>\n",
       "      <td>2315.421687</td>\n",
       "      <td>11951.722892</td>\n",
       "      <td>2.382693e+07</td>\n",
       "      <td>1.065117e+07</td>\n",
       "      <td>0.447022</td>\n",
       "      <td>2011</td>\n",
       "      <td>2011-12-31</td>\n",
       "      <td>8773.952514</td>\n",
       "      <td>1963.958101</td>\n",
       "      <td>11970.259777</td>\n",
       "      <td>2.317832e+07</td>\n",
       "      <td>1.131766e+07</td>\n",
       "      <td>0.488286</td>\n",
       "      <td>1.027983</td>\n",
       "    </tr>\n",
       "    <tr>\n",
       "      <th>2011-06-30</th>\n",
       "      <td>9213.142857</td>\n",
       "      <td>2253.626374</td>\n",
       "      <td>11893.230769</td>\n",
       "      <td>2.502334e+07</td>\n",
       "      <td>1.183722e+07</td>\n",
       "      <td>0.473047</td>\n",
       "      <td>2011</td>\n",
       "      <td>2011-12-31</td>\n",
       "      <td>8773.952514</td>\n",
       "      <td>1963.958101</td>\n",
       "      <td>11970.259777</td>\n",
       "      <td>2.317832e+07</td>\n",
       "      <td>1.131766e+07</td>\n",
       "      <td>0.488286</td>\n",
       "      <td>1.079601</td>\n",
       "    </tr>\n",
       "  </tbody>\n",
       "</table>\n",
       "</div>"
      ],
      "text/plain": [
       "                 way1_x       way2_x        way3_x  total_sales_x  \\\n",
       "index_x                                                             \n",
       "2010-06-30  7657.468750  2062.234375  12303.546875   2.328062e+07   \n",
       "2010-09-30  8477.021739  2239.652174  12485.782609   2.190322e+07   \n",
       "2010-12-31  8217.945652  2879.967391  12725.804348   2.257920e+07   \n",
       "2011-03-31  7997.963855  2315.421687  11951.722892   2.382693e+07   \n",
       "2011-06-30  9213.142857  2253.626374  11893.230769   2.502334e+07   \n",
       "\n",
       "            total_prize_x  ratio_of_prize_x     Y    index_y       way1_y  \\\n",
       "index_x                                                                     \n",
       "2010-06-30   1.028595e+07          0.441825  2010 2010-12-31  8169.415323   \n",
       "2010-09-30   1.119144e+07          0.510949  2010 2010-12-31  8169.415323   \n",
       "2010-12-31   1.117566e+07          0.494954  2010 2010-12-31  8169.415323   \n",
       "2011-03-31   1.065117e+07          0.447022  2011 2011-12-31  8773.952514   \n",
       "2011-06-30   1.183722e+07          0.473047  2011 2011-12-31  8773.952514   \n",
       "\n",
       "                 way2_y        way3_y  total_sales_y  total_prize_y  \\\n",
       "index_x                                                               \n",
       "2010-06-30  2431.403226  12527.794355   2.250945e+07   1.095191e+07   \n",
       "2010-09-30  2431.403226  12527.794355   2.250945e+07   1.095191e+07   \n",
       "2010-12-31  2431.403226  12527.794355   2.250945e+07   1.095191e+07   \n",
       "2011-03-31  1963.958101  11970.259777   2.317832e+07   1.131766e+07   \n",
       "2011-06-30  1963.958101  11970.259777   2.317832e+07   1.131766e+07   \n",
       "\n",
       "            ratio_of_prize_y       Q/Y  \n",
       "index_x                                 \n",
       "2010-06-30          0.486547  1.034260  \n",
       "2010-09-30          0.486547  0.973068  \n",
       "2010-12-31          0.486547  1.003099  \n",
       "2011-03-31          0.488286  1.027983  \n",
       "2011-06-30          0.488286  1.079601  "
      ]
     },
     "execution_count": 21,
     "metadata": {},
     "output_type": "execute_result"
    }
   ],
   "source": [
    "#merge them\n",
    "data_4_1_QY=data_4_1_Q.reset_index().merge(data_4_1_Y.reset_index(), on='Y', how='left').set_index('index_x')\n",
    "data_4_1_QY.head()\n",
    "data_4_1_QY['Q/Y']= data_4_1_QY['total_sales_x']/data_4_1_QY['total_sales_y']\n",
    "data_4_1_QY.head()"
   ]
  },
  {
   "cell_type": "code",
   "execution_count": 22,
   "metadata": {
    "scrolled": true
   },
   "outputs": [
    {
     "data": {
      "image/png": "[encoded data removed]",
      "text/plain": [
       "<Figure size 432x288 with 1 Axes>"
      ]
     },
     "metadata": {
      "needs_background": "light"
     },
     "output_type": "display_data"
    }
   ],
   "source": [
    "fig, ax = plt.subplots(1)\n",
    "\n",
    "data_4_1_Y['total_sales'].plot(\n",
    "    ax=ax,\n",
    "    color='r',\n",
    "    ylim=[10**7,2.75*10**7]\n",
    ");\n",
    "\n",
    "data_4_1_Q['total_sales'].plot(\n",
    "    ax=ax,\n",
    "    color='y',\n",
    "    ylim=[10**7,2.75*10**7]\n",
    ");"
   ]
  },
  {
   "cell_type": "markdown",
   "metadata": {},
   "source": [
    "from this,we can see that:\n",
    "\n",
    "Sales declined significantly between 2011 and 2016.\n",
    "\n",
    "The sales volume rose slowly from 2016 to 2019.(Sales are rising rapidly in 2020, possibly due to missing data.)\n",
    "\n",
    "Sales tend to fluctuate between quarters."
   ]
  },
  {
   "cell_type": "code",
   "execution_count": 23,
   "metadata": {},
   "outputs": [
    {
     "data": {
      "image/png": "[encoded data removed]",
      "text/plain": [
       "<Figure size 432x288 with 1 Axes>"
      ]
     },
     "metadata": {
      "needs_background": "light"
     },
     "output_type": "display_data"
    }
   ],
   "source": [
    "fig, ax = plt.subplots(1)\n",
    "data_4_1_QY.plot(\n",
    "    ax=ax,\n",
    "    y='Q/Y'\n",
    ");\n",
    "plt.hlines(1,'2010-06-30','2020-06-30',ls='--' ,color='b');\n",
    "for i in range(2010,2021,1):\n",
    "    a=f'{i}'+'-06-30'\n",
    "    plt.vlines(a, 0.8,1.1,ls='--',color='r');"
   ]
  },
  {
   "cell_type": "markdown",
   "metadata": {},
   "source": [
    "from this,we can see that:\n",
    "\n",
    "Sales fluctuate clearly from quarter to quarter.Sales in the first quarter are often higher than other quarters."
   ]
  },
  {
   "cell_type": "markdown",
   "metadata": {},
   "source": [
    "### 4-1-2 the ratio of prize\n",
    "Let's discuss the ratio of prize to sales.\n",
    "\n",
    "From 2010 to 2014, this ratio was set at around 50%. \n",
    "\n",
    "From August 2014, this ratio was set to 52%."
   ]
  },
  {
   "cell_type": "code",
   "execution_count": 24,
   "metadata": {
    "scrolled": true
   },
   "outputs": [
    {
     "data": {
      "image/png": "[encoded data removed]",
      "text/plain": [
       "<Figure size 432x288 with 1 Axes>"
      ]
     },
     "metadata": {
      "needs_background": "light"
     },
     "output_type": "display_data"
    }
   ],
   "source": [
    "fig, ax = plt.subplots(1)\n",
    "\n",
    "data_4_1_Q['ratio_of_prize'].plot(\n",
    "    ax=ax,\n",
    "    color='b'\n",
    ");\n",
    "\n",
    "data_4_1_Y['ratio_of_prize'].plot(\n",
    "    ax=ax,\n",
    "    color='r'\n",
    ");\n",
    "\n",
    "plt.hlines(0.5,'2010-06-30','2014-07-30',ls='--' ,color='b');\n",
    "plt.hlines(0.52,'2014-07-30','2020-06-30',ls='--' ,color='b');\n",
    "plt.hlines(0.49,'2010-06-30','2014-07-30',ls='--' ,color='r');\n",
    "plt.hlines(0.515,'2014-07-30','2020-06-30',ls='--' ,color='r');"
   ]
  },
  {
   "cell_type": "markdown",
   "metadata": {},
   "source": [
    "We can see that the actual ratio is often smaller than the set ratio. \n",
    "\n",
    "Since 2014, the annual average ratio has exceeded the set ratio only once.\n",
    "\n",
    "Before 2014, the actual ratio of annual averages was always around 0.45, lower than 0.5."
   ]
  },
  {
   "cell_type": "markdown",
   "metadata": {},
   "source": [
    "## 4-2 some details"
   ]
  },
  {
   "cell_type": "code",
   "execution_count": 25,
   "metadata": {},
   "outputs": [
    {
     "data": {
      "text/html": [
       "<div>\n",
       "<style scoped>\n",
       "    .dataframe tbody tr th:only-of-type {\n",
       "        vertical-align: middle;\n",
       "    }\n",
       "\n",
       "    .dataframe tbody tr th {\n",
       "        vertical-align: top;\n",
       "    }\n",
       "\n",
       "    .dataframe thead th {\n",
       "        text-align: right;\n",
       "    }\n",
       "</style>\n",
       "<table border=\"1\" class=\"dataframe\">\n",
       "  <thead>\n",
       "    <tr style=\"text-align: right;\">\n",
       "      <th></th>\n",
       "      <th>way1</th>\n",
       "      <th>way2</th>\n",
       "      <th>way3</th>\n",
       "      <th>total_sales</th>\n",
       "      <th>total_prize</th>\n",
       "      <th>ratio_of_prize</th>\n",
       "      <th>year</th>\n",
       "      <th>weekofyear</th>\n",
       "      <th>dayofweek</th>\n",
       "      <th>day</th>\n",
       "      <th>month</th>\n",
       "    </tr>\n",
       "  </thead>\n",
       "  <tbody>\n",
       "    <tr>\n",
       "      <th>2004-11-14</th>\n",
       "      <td>NaN</td>\n",
       "      <td>NaN</td>\n",
       "      <td>NaN</td>\n",
       "      <td>NaN</td>\n",
       "      <td>NaN</td>\n",
       "      <td>NaN</td>\n",
       "      <td>2004</td>\n",
       "      <td>46</td>\n",
       "      <td>6</td>\n",
       "      <td>14</td>\n",
       "      <td>11</td>\n",
       "    </tr>\n",
       "    <tr>\n",
       "      <th>2004-11-15</th>\n",
       "      <td>NaN</td>\n",
       "      <td>NaN</td>\n",
       "      <td>NaN</td>\n",
       "      <td>NaN</td>\n",
       "      <td>NaN</td>\n",
       "      <td>NaN</td>\n",
       "      <td>2004</td>\n",
       "      <td>47</td>\n",
       "      <td>0</td>\n",
       "      <td>15</td>\n",
       "      <td>11</td>\n",
       "    </tr>\n",
       "    <tr>\n",
       "      <th>2004-11-16</th>\n",
       "      <td>NaN</td>\n",
       "      <td>NaN</td>\n",
       "      <td>NaN</td>\n",
       "      <td>NaN</td>\n",
       "      <td>NaN</td>\n",
       "      <td>NaN</td>\n",
       "      <td>2004</td>\n",
       "      <td>47</td>\n",
       "      <td>1</td>\n",
       "      <td>16</td>\n",
       "      <td>11</td>\n",
       "    </tr>\n",
       "    <tr>\n",
       "      <th>2004-11-17</th>\n",
       "      <td>NaN</td>\n",
       "      <td>NaN</td>\n",
       "      <td>NaN</td>\n",
       "      <td>NaN</td>\n",
       "      <td>NaN</td>\n",
       "      <td>NaN</td>\n",
       "      <td>2004</td>\n",
       "      <td>47</td>\n",
       "      <td>2</td>\n",
       "      <td>17</td>\n",
       "      <td>11</td>\n",
       "    </tr>\n",
       "    <tr>\n",
       "      <th>2004-11-18</th>\n",
       "      <td>NaN</td>\n",
       "      <td>NaN</td>\n",
       "      <td>NaN</td>\n",
       "      <td>NaN</td>\n",
       "      <td>NaN</td>\n",
       "      <td>NaN</td>\n",
       "      <td>2004</td>\n",
       "      <td>47</td>\n",
       "      <td>3</td>\n",
       "      <td>18</td>\n",
       "      <td>11</td>\n",
       "    </tr>\n",
       "  </tbody>\n",
       "</table>\n",
       "</div>"
      ],
      "text/plain": [
       "            way1  way2  way3  total_sales  total_prize  ratio_of_prize  year  \\\n",
       "2004-11-14   NaN   NaN   NaN          NaN          NaN             NaN  2004   \n",
       "2004-11-15   NaN   NaN   NaN          NaN          NaN             NaN  2004   \n",
       "2004-11-16   NaN   NaN   NaN          NaN          NaN             NaN  2004   \n",
       "2004-11-17   NaN   NaN   NaN          NaN          NaN             NaN  2004   \n",
       "2004-11-18   NaN   NaN   NaN          NaN          NaN             NaN  2004   \n",
       "\n",
       "            weekofyear  dayofweek  day  month  \n",
       "2004-11-14          46          6   14     11  \n",
       "2004-11-15          47          0   15     11  \n",
       "2004-11-16          47          1   16     11  \n",
       "2004-11-17          47          2   17     11  \n",
       "2004-11-18          47          3   18     11  "
      ]
     },
     "execution_count": 25,
     "metadata": {},
     "output_type": "execute_result"
    }
   ],
   "source": [
    "value = {'nan': np.nan}\n",
    "time = pd.date_range(start='2004-11-14', end='2020-05-27')\n",
    "df_time = pd.DataFrame(value, index=time)\n",
    "a = [ 'way1', 'way2', 'way3', 'total_sales', 'total_prize', 'ratio_of_prize']\n",
    "data_4_2_df = df_time.merge(df_total.loc[:, a].dropna(),left_index=True, right_index= True , how=\"left\").iloc[:, 1:]\n",
    "#data_4_2_df['day']=data_4_2_df.index.year()\n",
    "\n",
    "data_4_2_df['year']=data_4_2_df.index.year\n",
    "data_4_2_df['weekofyear']=data_4_2_df.index.weekofyear\n",
    "data_4_2_df['dayofweek']=data_4_2_df.index.dayofweek\n",
    "\n",
    "data_4_2_df['day']=data_4_2_df.index.day\n",
    "data_4_2_df['month']=data_4_2_df.index.month\n",
    "\n",
    "data_4_2_df.head()"
   ]
  },
  {
   "cell_type": "markdown",
   "metadata": {},
   "source": [
    "### 4-2-1  week"
   ]
  },
  {
   "cell_type": "code",
   "execution_count": 26,
   "metadata": {
    "scrolled": true
   },
   "outputs": [
    {
     "data": {
      "text/html": [
       "<div>\n",
       "<style scoped>\n",
       "    .dataframe tbody tr th:only-of-type {\n",
       "        vertical-align: middle;\n",
       "    }\n",
       "\n",
       "    .dataframe tbody tr th {\n",
       "        vertical-align: top;\n",
       "    }\n",
       "\n",
       "    .dataframe thead th {\n",
       "        text-align: right;\n",
       "    }\n",
       "</style>\n",
       "<table border=\"1\" class=\"dataframe\">\n",
       "  <thead>\n",
       "    <tr style=\"text-align: right;\">\n",
       "      <th></th>\n",
       "      <th>year</th>\n",
       "      <th>weekofyear</th>\n",
       "      <th>dayofweek</th>\n",
       "      <th>total_sales</th>\n",
       "    </tr>\n",
       "  </thead>\n",
       "  <tbody>\n",
       "    <tr>\n",
       "      <th>2004-11-14</th>\n",
       "      <td>2004</td>\n",
       "      <td>46</td>\n",
       "      <td>6</td>\n",
       "      <td>NaN</td>\n",
       "    </tr>\n",
       "    <tr>\n",
       "      <th>2004-11-15</th>\n",
       "      <td>2004</td>\n",
       "      <td>47</td>\n",
       "      <td>0</td>\n",
       "      <td>NaN</td>\n",
       "    </tr>\n",
       "    <tr>\n",
       "      <th>2004-11-16</th>\n",
       "      <td>2004</td>\n",
       "      <td>47</td>\n",
       "      <td>1</td>\n",
       "      <td>NaN</td>\n",
       "    </tr>\n",
       "    <tr>\n",
       "      <th>2004-11-17</th>\n",
       "      <td>2004</td>\n",
       "      <td>47</td>\n",
       "      <td>2</td>\n",
       "      <td>NaN</td>\n",
       "    </tr>\n",
       "    <tr>\n",
       "      <th>2004-11-18</th>\n",
       "      <td>2004</td>\n",
       "      <td>47</td>\n",
       "      <td>3</td>\n",
       "      <td>NaN</td>\n",
       "    </tr>\n",
       "  </tbody>\n",
       "</table>\n",
       "</div>"
      ],
      "text/plain": [
       "            year  weekofyear  dayofweek  total_sales\n",
       "2004-11-14  2004          46          6          NaN\n",
       "2004-11-15  2004          47          0          NaN\n",
       "2004-11-16  2004          47          1          NaN\n",
       "2004-11-17  2004          47          2          NaN\n",
       "2004-11-18  2004          47          3          NaN"
      ]
     },
     "execution_count": 26,
     "metadata": {},
     "output_type": "execute_result"
    }
   ],
   "source": [
    "data_4_2_1_df=data_4_2_df.loc[:, ['year', 'weekofyear', 'dayofweek', 'total_sales']]\n",
    "data_4_2_1_df.head()"
   ]
  },
  {
   "cell_type": "code",
   "execution_count": 27,
   "metadata": {
    "scrolled": false
   },
   "outputs": [
    {
     "data": {
      "image/png": "[encoded data removed]",
      "text/plain": [
       "<Figure size 432x288 with 1 Axes>"
      ]
     },
     "metadata": {
      "needs_background": "light"
     },
     "output_type": "display_data"
    }
   ],
   "source": [
    "b=data_4_2_1_df.pivot_table( index=['year','weekofyear'], columns=\"dayofweek\", values='total_sales').dropna()\n",
    "b.idxmax(axis=1).value_counts().sort_index().plot.bar();"
   ]
  },
  {
   "cell_type": "markdown",
   "metadata": {},
   "source": [
    "It can be clearly seen that the lottery with the results announced on Friday had the best sales in a week. While, the lottery with the results announced on Saturday had the worst sales.\n",
    "\n",
    "So people are more inclined to buy lottery tickets with the results announced on Friday."
   ]
  },
  {
   "cell_type": "markdown",
   "metadata": {},
   "source": [
    "### 4-2-2  month"
   ]
  },
  {
   "cell_type": "markdown",
   "metadata": {},
   "source": [
    "How about the month?"
   ]
  },
  {
   "cell_type": "code",
   "execution_count": 28,
   "metadata": {
    "scrolled": true
   },
   "outputs": [
    {
     "data": {
      "text/html": [
       "<div>\n",
       "<style scoped>\n",
       "    .dataframe tbody tr th:only-of-type {\n",
       "        vertical-align: middle;\n",
       "    }\n",
       "\n",
       "    .dataframe tbody tr th {\n",
       "        vertical-align: top;\n",
       "    }\n",
       "\n",
       "    .dataframe thead th {\n",
       "        text-align: right;\n",
       "    }\n",
       "</style>\n",
       "<table border=\"1\" class=\"dataframe\">\n",
       "  <thead>\n",
       "    <tr style=\"text-align: right;\">\n",
       "      <th></th>\n",
       "      <th>year</th>\n",
       "      <th>month</th>\n",
       "      <th>day</th>\n",
       "      <th>total_sales</th>\n",
       "    </tr>\n",
       "  </thead>\n",
       "  <tbody>\n",
       "    <tr>\n",
       "      <th>2004-11-14</th>\n",
       "      <td>2004</td>\n",
       "      <td>11</td>\n",
       "      <td>14</td>\n",
       "      <td>NaN</td>\n",
       "    </tr>\n",
       "    <tr>\n",
       "      <th>2004-11-15</th>\n",
       "      <td>2004</td>\n",
       "      <td>11</td>\n",
       "      <td>15</td>\n",
       "      <td>NaN</td>\n",
       "    </tr>\n",
       "    <tr>\n",
       "      <th>2004-11-16</th>\n",
       "      <td>2004</td>\n",
       "      <td>11</td>\n",
       "      <td>16</td>\n",
       "      <td>NaN</td>\n",
       "    </tr>\n",
       "    <tr>\n",
       "      <th>2004-11-17</th>\n",
       "      <td>2004</td>\n",
       "      <td>11</td>\n",
       "      <td>17</td>\n",
       "      <td>NaN</td>\n",
       "    </tr>\n",
       "    <tr>\n",
       "      <th>2004-11-18</th>\n",
       "      <td>2004</td>\n",
       "      <td>11</td>\n",
       "      <td>18</td>\n",
       "      <td>NaN</td>\n",
       "    </tr>\n",
       "  </tbody>\n",
       "</table>\n",
       "</div>"
      ],
      "text/plain": [
       "            year  month  day  total_sales\n",
       "2004-11-14  2004     11   14          NaN\n",
       "2004-11-15  2004     11   15          NaN\n",
       "2004-11-16  2004     11   16          NaN\n",
       "2004-11-17  2004     11   17          NaN\n",
       "2004-11-18  2004     11   18          NaN"
      ]
     },
     "execution_count": 28,
     "metadata": {},
     "output_type": "execute_result"
    }
   ],
   "source": [
    "data_4_2_2_df=data_4_2_df.loc[:, ['year', 'month', 'day', 'total_sales']]\n",
    "data_4_2_2_df.head()"
   ]
  },
  {
   "cell_type": "code",
   "execution_count": 29,
   "metadata": {},
   "outputs": [
    {
     "data": {
      "image/png": "[encoded data removed]",
      "text/plain": [
       "<Figure size 432x288 with 1 Axes>"
      ]
     },
     "metadata": {
      "needs_background": "light"
     },
     "output_type": "display_data"
    }
   ],
   "source": [
    "b=indexs_full=data_4_2_2_df.pivot_table(index=['year','month'], columns=\"day\", values='total_sales')\n",
    "indexs_full=b.isnull().sum(axis=1)<4\n",
    "\n",
    "b.loc[indexs_full, :].idxmax(axis=1).value_counts().sort_index().plot.bar();"
   ]
  },
  {
   "cell_type": "markdown",
   "metadata": {},
   "source": [
    "We can't find out much obvious from this picture."
   ]
  }
 ],
 "metadata": {
  "kernelspec": {
   "display_name": "Python 3",
   "language": "python",
   "name": "python3"
  },
  "language_info": {
   "codemirror_mode": {
    "name": "ipython",
    "version": 3
   },
   "file_extension": ".py",
   "mimetype": "text/x-python",
   "name": "python",
   "nbconvert_exporter": "python",
   "pygments_lexer": "ipython3",
   "version": "3.7.7"
  }
 },
 "nbformat": 4,
 "nbformat_minor": 4
}
